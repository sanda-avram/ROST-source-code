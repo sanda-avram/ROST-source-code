{
  "nbformat": 4,
  "nbformat_minor": 0,
  "metadata": {
    "colab": {
      "provenance": [],
      "authorship_tag": "ABX9TyPJxHbgQ4TOlp2kKmLhO2Zc",
      "include_colab_link": true
    },
    "kernelspec": {
      "name": "python3",
      "display_name": "Python 3"
    },
    "language_info": {
      "name": "python"
    }
  },
  "cells": [
    {
      "cell_type": "markdown",
      "metadata": {
        "id": "view-in-github",
        "colab_type": "text"
      },
      "source": [
        "<a href=\"https://colab.research.google.com/github/sanda-avram/ROST-source-code/blob/main/ROST_withMEPX.ipynb\" target=\"_parent\"><img src=\"https://colab.research.google.com/assets/colab-badge.svg\" alt=\"Open In Colab\"/></a>"
      ]
    },
    {
      "cell_type": "code",
      "execution_count": null,
      "metadata": {
        "colab": {
          "base_uri": "https://localhost:8080/"
        },
        "id": "EGclkBe5ykea",
        "outputId": "be2ab2f1-46e6-4fbb-fc79-1256e9c55102"
      },
      "outputs": [
        {
          "output_type": "stream",
          "name": "stdout",
          "text": [
            "[[ 6  0  0  0  0  0  0  0  0  1]\n",
            " [ 0  4  0  3  1  0  1  0  0  2]\n",
            " [ 0  0  6  0  0  0  0  0  0  0]\n",
            " [ 0  1  1  6  0  0  0  0  0  0]\n",
            " [ 1  1  0  0  6  0  0  0  1  1]\n",
            " [ 0  0  0  0  0 10  0  0  0  0]\n",
            " [ 0  0  0  0  0  0  8  0  0  0]\n",
            " [ 0  1  0  0  1  0  0  8  0  0]\n",
            " [ 0  1  0  0  0  0  1  0 12  1]\n",
            " [ 0  0  0  0  0  0  0  0  1 12]]\n",
            "accuracy: 0.7959183673469388\n",
            "              precision    recall  f1-score   support\n",
            "\n",
            "           0      0.857     0.857     0.857         7\n",
            "           1      0.500     0.364     0.421        11\n",
            "           2      0.857     1.000     0.923         6\n",
            "           3      0.667     0.750     0.706         8\n",
            "           4      0.750     0.600     0.667        10\n",
            "           5      1.000     1.000     1.000        10\n",
            "           6      0.800     1.000     0.889         8\n",
            "           7      1.000     0.800     0.889        10\n",
            "           8      0.857     0.800     0.828        15\n",
            "           9      0.706     0.923     0.800        13\n",
            "\n",
            "    accuracy                          0.796        98\n",
            "   macro avg      0.799     0.809     0.798        98\n",
            "weighted avg      0.795     0.796     0.789        98\n",
            "\n"
          ]
        }
      ],
      "source": [
        "import numpy as np\n",
        "from sklearn.metrics import confusion_matrix, accuracy_score, ConfusionMatrixDisplay\n",
        "# y_pred = [0,0,9,0,0,0,0,3,9,1,6,1,3,1,9,3,4,1,2,2,2,2,2,2,1,3,3,3,3,3,2,3,8,4,4,1,9,4,4,4,0,4,5,5,5,5,5,5,5,5,5,5,6,6,6,6,6,6,6,6,7,7,7,1,7,7,4,7,7,7,8,8,8,8,8,8,8,8,8,8,8,9,1,6,8,9,9,9,9,9,9,9,9,9,8,9,9,9]\n",
        "# y_true = [0,0,0,0,0,0,0,1,1,1,1,1,1,1,1,1,1,1,2,2,2,2,2,2,3,3,3,3,3,3,3,3,4,4,4,4,4,4,4,4,4,4,5,5,5,5,5,5,5,5,5,5,6,6,6,6,6,6,6,6,7,7,7,7,7,7,7,7,7,7,8,8,8,8,8,8,8,8,8,8,8,8,8,8,8,9,9,9,9,9,9,9,9,9,9,9,9,9]\n",
        "y_true = [0, 0, 0, 0, 0, 0, 0, 1, 1, 1, 1, 1, 1, 1, 1, 1, 1, 1, 2, 2, 2, 2, 2, 2, 3, 3, 3, 3, 3, 3, 3, 3, 4, 4, 4, 4, 4, 4, 4, 4, 4, 4, 5, 5, 5, 5, 5, 5, 5, 5, 5, 5, 6, 6, 6, 6, 6, 6, 6, 6, 7, 7, 7, 7, 7, 7, 7, 7, 7, 7, 8, 8, 8, 8, 8, 8, 8, 8, 8, 8, 8, 8, 8, 8, 8, 9, 9, 9, 9, 9, 9, 9, 9, 9, 9, 9, 9, 9]\n",
        "y_pred = [0,0,9,0,0,0,0,3,9,1,6,1,3,1,9,3,4,1,2,2,2,2,2,2,1,3,3,3,3,3,2,3,8,4,4,1,9,4,4,4,0,4,5,5,5,5,5,5,5,5,5,5,6,6,6,6,6,6,6,6,7,7,7,1,7,7,4,7,7,7,8,8,8,8,8,8,8,8,8,8,8,9,1,6,8,9,9,9,9,9,9,9,9,9,8,9,9,9]\n",
        "# accuracy_score(y_true, y_pred)\n",
        "cm=confusion_matrix(y_true, y_pred)\n",
        "print(cm)\n",
        "accuracy = accuracy_score(y_true, y_pred)\n",
        "print(\"accuracy:\", accuracy)\n",
        "\n",
        "from sklearn.metrics import classification_report\n",
        "\n",
        "print(classification_report(y_true, y_pred, digits=3))"
      ]
    },
    {
      "cell_type": "code",
      "source": [
        "from sklearn.metrics import balanced_accuracy_score\n",
        "balanced_accuracy_score(y_true, y_pred)\n"
      ],
      "metadata": {
        "colab": {
          "base_uri": "https://localhost:8080/"
        },
        "id": "i8lE2qb9zk25",
        "outputId": "491c1f21-c244-46c2-c762-489ffb54a3d7"
      },
      "execution_count": null,
      "outputs": [
        {
          "output_type": "execute_result",
          "data": {
            "text/plain": [
              "0.8093856143856144"
            ]
          },
          "metadata": {},
          "execution_count": 2
        }
      ]
    },
    {
      "cell_type": "code",
      "source": [
        "disp = ConfusionMatrixDisplay(confusion_matrix=cm)\n",
        "disp.plot()"
      ],
      "metadata": {
        "colab": {
          "base_uri": "https://localhost:8080/",
          "height": 301
        },
        "id": "ff8qTElwzsQF",
        "outputId": "0a0a3727-3ac8-4080-bb14-2b79ebea42d5"
      },
      "execution_count": null,
      "outputs": [
        {
          "output_type": "execute_result",
          "data": {
            "text/plain": [
              "<sklearn.metrics._plot.confusion_matrix.ConfusionMatrixDisplay at 0x7fa124933460>"
            ]
          },
          "metadata": {},
          "execution_count": 3
        },
        {
          "output_type": "display_data",
          "data": {
            "text/plain": [
              "<Figure size 432x288 with 2 Axes>"
            ],
            "image/png": "[encoded data removed]"
          },
          "metadata": {
            "needs_background": "light"
          }
        }
      ]
    }
  ]
}